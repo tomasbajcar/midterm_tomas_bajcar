{
 "cells": [
  {
   "cell_type": "code",
   "execution_count": 1,
   "metadata": {},
   "outputs": [],
   "source": [
    "import requests\n",
    "from bs4 import BeautifulSoup\n",
    "import pandas as pd\n",
    "import json\n",
    "import time"
   ]
  },
  {
   "cell_type": "code",
   "execution_count": 2,
   "metadata": {},
   "outputs": [
    {
     "data": {
      "text/plain": [
       "<Response [200]>"
      ]
     },
     "execution_count": 2,
     "metadata": {},
     "output_type": "execute_result"
    }
   ],
   "source": [
    "payload = '{\"cuni\":\"37665566\"}'\n",
    "r = requests.post('https://ies-midterm.soulution.rocks/login',payload)\n",
    "r #everything is ok"
   ]
  },
  {
   "cell_type": "code",
   "execution_count": 3,
   "metadata": {},
   "outputs": [
    {
     "data": {
      "text/plain": [
       "{'data': {'personal_code': '19e0bf64',\n",
       "  'dataset_ids': ['f45ec2e9fc',\n",
       "   '557b58dd1d',\n",
       "   'e2beb850b2',\n",
       "   '5aa21103e8',\n",
       "   '3bd4cabfaa']},\n",
       " 'message': 'Hello, Bajcár Tomáš! Good luck with the midterm. GET your data set from /data/file_id endpoint; use the codes you received in the data response as the file_id parameter! Print the personal code in your notebook.'}"
      ]
     },
     "execution_count": 3,
     "metadata": {},
     "output_type": "execute_result"
    }
   ],
   "source": [
    "r_next = json.loads(r.text)\n",
    "r_next"
   ]
  },
  {
   "cell_type": "code",
   "execution_count": 4,
   "metadata": {},
   "outputs": [
    {
     "data": {
      "text/plain": [
       "'19e0bf64'"
      ]
     },
     "execution_count": 4,
     "metadata": {},
     "output_type": "execute_result"
    }
   ],
   "source": [
    "r_next['data']['personal_code'] #my personal code"
   ]
  },
  {
   "cell_type": "code",
   "execution_count": 5,
   "metadata": {},
   "outputs": [
    {
     "data": {
      "text/plain": [
       "['f45ec2e9fc', '557b58dd1d', 'e2beb850b2', '5aa21103e8', '3bd4cabfaa']"
      ]
     },
     "execution_count": 5,
     "metadata": {},
     "output_type": "execute_result"
    }
   ],
   "source": [
    "my_codes = r_next['data']['dataset_ids']\n",
    "my_codes"
   ]
  },
  {
   "cell_type": "code",
   "execution_count": 6,
   "metadata": {},
   "outputs": [
    {
     "data": {
      "text/html": [
       "<div>\n",
       "<style scoped>\n",
       "    .dataframe tbody tr th:only-of-type {\n",
       "        vertical-align: middle;\n",
       "    }\n",
       "\n",
       "    .dataframe tbody tr th {\n",
       "        vertical-align: top;\n",
       "    }\n",
       "\n",
       "    .dataframe thead th {\n",
       "        text-align: right;\n",
       "    }\n",
       "</style>\n",
       "<table border=\"1\" class=\"dataframe\">\n",
       "  <thead>\n",
       "    <tr style=\"text-align: right;\">\n",
       "      <th></th>\n",
       "      <th>0</th>\n",
       "    </tr>\n",
       "  </thead>\n",
       "  <tbody>\n",
       "    <tr>\n",
       "      <th>0</th>\n",
       "      <td>{\"data\": {\"company\": \"AAL\", \"data\": [{\"Date\": ...</td>\n",
       "    </tr>\n",
       "    <tr>\n",
       "      <th>1</th>\n",
       "      <td>{\"data\": {\"company\": \"AZN\", \"data\": [{\"Date\": ...</td>\n",
       "    </tr>\n",
       "    <tr>\n",
       "      <th>2</th>\n",
       "      <td>{\"data\": {}, \"message\": \"Error [503] - Sorry, ...</td>\n",
       "    </tr>\n",
       "    <tr>\n",
       "      <th>3</th>\n",
       "      <td>{\"data\": {\"company\": \"BME\", \"data\": [{\"Date\": ...</td>\n",
       "    </tr>\n",
       "    <tr>\n",
       "      <th>4</th>\n",
       "      <td>{\"data\": {\"company\": \"AUTO\", \"data\": [{\"Date\":...</td>\n",
       "    </tr>\n",
       "  </tbody>\n",
       "</table>\n",
       "</div>"
      ],
      "text/plain": [
       "                                                   0\n",
       "0  {\"data\": {\"company\": \"AAL\", \"data\": [{\"Date\": ...\n",
       "1  {\"data\": {\"company\": \"AZN\", \"data\": [{\"Date\": ...\n",
       "2  {\"data\": {}, \"message\": \"Error [503] - Sorry, ...\n",
       "3  {\"data\": {\"company\": \"BME\", \"data\": [{\"Date\": ...\n",
       "4  {\"data\": {\"company\": \"AUTO\", \"data\": [{\"Date\":..."
      ]
     },
     "execution_count": 6,
     "metadata": {},
     "output_type": "execute_result"
    }
   ],
   "source": [
    "pd.DataFrame([requests.get(f'https://ies-midterm.soulution.rocks/data/{code}').text for code in my_codes]) #I see errors here"
   ]
  },
  {
   "cell_type": "code",
   "execution_count": 7,
   "metadata": {},
   "outputs": [
    {
     "name": "stdout",
     "output_type": "stream",
     "text": [
      "<Response [200]>\n",
      "<Response [503]>\n",
      "<Response [503]>\n",
      "<Response [200]>\n",
      "<Response [503]>\n",
      "<Response [503]>\n",
      "<Response [200]>\n",
      "<Response [200]>\n",
      "<Response [503]>\n",
      "<Response [503]>\n",
      "<Response [200]>\n"
     ]
    }
   ],
   "source": [
    "my_dictionary = {}\n",
    "for code in my_codes:\n",
    "    r = requests.get(f'https://ies-midterm.soulution.rocks/data/{code}')\n",
    "    print(r) #checking what trials are passed on first attempt\n",
    "    while r.status_code != 200:  \n",
    "        r = requests.get(f'https://ies-midterm.soulution.rocks/data/{code}')\n",
    "        time.sleep(5)\n",
    "        print(r) #other attempts...I need response 200 five times \n",
    "    df = r.json()['data']\n",
    "    \n",
    "    comp_name = df['company']\n",
    "    data_all = pd.DataFrame(df['data']).set_index('Date') #I came back here bcs I needed to create index and set it to datetime\n",
    "    data_all.index = pd.to_datetime(data_all.index)\n",
    "    \n",
    "    my_dictionary[comp_name] = data_all\n",
    "    \n",
    "df_final = pd.concat(my_dictionary)\n",
    "df_final.index.names = ['comp_name','Date']\n",
    "df_final = df_final.dropna(how = 'all')\n",
    "df_final = df_final.astype(float)"
   ]
  },
  {
   "cell_type": "code",
   "execution_count": 8,
   "metadata": {},
   "outputs": [
    {
     "data": {
      "text/plain": [
       "Open         float64\n",
       "High         float64\n",
       "Low          float64\n",
       "Close        float64\n",
       "Adj.Close    float64\n",
       "Volume       float64\n",
       "dtype: object"
      ]
     },
     "execution_count": 8,
     "metadata": {},
     "output_type": "execute_result"
    }
   ],
   "source": [
    "df_final.dtypes #checking types of my data"
   ]
  },
  {
   "cell_type": "code",
   "execution_count": 9,
   "metadata": {},
   "outputs": [
    {
     "data": {
      "text/plain": [
       "comp_name            object\n",
       "Date         datetime64[ns]\n",
       "dtype: object"
      ]
     },
     "execution_count": 9,
     "metadata": {},
     "output_type": "execute_result"
    }
   ],
   "source": [
    "df_final.index.to_frame().dtypes #checking type of my multindex"
   ]
  },
  {
   "cell_type": "code",
   "execution_count": 10,
   "metadata": {},
   "outputs": [
    {
     "data": {
      "text/html": [
       "<div>\n",
       "<style scoped>\n",
       "    .dataframe tbody tr th:only-of-type {\n",
       "        vertical-align: middle;\n",
       "    }\n",
       "\n",
       "    .dataframe tbody tr th {\n",
       "        vertical-align: top;\n",
       "    }\n",
       "\n",
       "    .dataframe thead th {\n",
       "        text-align: right;\n",
       "    }\n",
       "</style>\n",
       "<table border=\"1\" class=\"dataframe\">\n",
       "  <thead>\n",
       "    <tr style=\"text-align: right;\">\n",
       "      <th></th>\n",
       "      <th></th>\n",
       "      <th>Open</th>\n",
       "      <th>High</th>\n",
       "      <th>Low</th>\n",
       "      <th>Close</th>\n",
       "      <th>Adj.Close</th>\n",
       "      <th>Volume</th>\n",
       "    </tr>\n",
       "    <tr>\n",
       "      <th>comp_name</th>\n",
       "      <th>Date</th>\n",
       "      <th></th>\n",
       "      <th></th>\n",
       "      <th></th>\n",
       "      <th></th>\n",
       "      <th></th>\n",
       "      <th></th>\n",
       "    </tr>\n",
       "  </thead>\n",
       "  <tbody>\n",
       "    <tr>\n",
       "      <th rowspan=\"5\" valign=\"top\">AAL</th>\n",
       "      <th>2019-01-02</th>\n",
       "      <td>31.459999</td>\n",
       "      <td>32.650002</td>\n",
       "      <td>31.049999</td>\n",
       "      <td>32.480000</td>\n",
       "      <td>31.963160</td>\n",
       "      <td>5229500.0</td>\n",
       "    </tr>\n",
       "    <tr>\n",
       "      <th>2019-01-03</th>\n",
       "      <td>31.690001</td>\n",
       "      <td>31.850000</td>\n",
       "      <td>28.809999</td>\n",
       "      <td>30.059999</td>\n",
       "      <td>29.581665</td>\n",
       "      <td>16822000.0</td>\n",
       "    </tr>\n",
       "    <tr>\n",
       "      <th>2019-01-04</th>\n",
       "      <td>30.440001</td>\n",
       "      <td>32.090000</td>\n",
       "      <td>30.400000</td>\n",
       "      <td>32.040001</td>\n",
       "      <td>31.530161</td>\n",
       "      <td>9369600.0</td>\n",
       "    </tr>\n",
       "    <tr>\n",
       "      <th>2019-01-07</th>\n",
       "      <td>31.990000</td>\n",
       "      <td>33.480000</td>\n",
       "      <td>31.240000</td>\n",
       "      <td>32.950001</td>\n",
       "      <td>32.425678</td>\n",
       "      <td>8010700.0</td>\n",
       "    </tr>\n",
       "    <tr>\n",
       "      <th>2019-01-08</th>\n",
       "      <td>33.360001</td>\n",
       "      <td>33.650002</td>\n",
       "      <td>32.200001</td>\n",
       "      <td>32.419998</td>\n",
       "      <td>31.904110</td>\n",
       "      <td>7107700.0</td>\n",
       "    </tr>\n",
       "    <tr>\n",
       "      <th>...</th>\n",
       "      <th>...</th>\n",
       "      <td>...</td>\n",
       "      <td>...</td>\n",
       "      <td>...</td>\n",
       "      <td>...</td>\n",
       "      <td>...</td>\n",
       "      <td>...</td>\n",
       "    </tr>\n",
       "    <tr>\n",
       "      <th rowspan=\"5\" valign=\"top\">AUTO</th>\n",
       "      <th>2020-11-16</th>\n",
       "      <td>2.310000</td>\n",
       "      <td>2.390000</td>\n",
       "      <td>2.260000</td>\n",
       "      <td>2.290000</td>\n",
       "      <td>2.290000</td>\n",
       "      <td>179300.0</td>\n",
       "    </tr>\n",
       "    <tr>\n",
       "      <th>2020-11-17</th>\n",
       "      <td>2.330000</td>\n",
       "      <td>2.390000</td>\n",
       "      <td>2.230000</td>\n",
       "      <td>2.320000</td>\n",
       "      <td>2.320000</td>\n",
       "      <td>196900.0</td>\n",
       "    </tr>\n",
       "    <tr>\n",
       "      <th>2020-11-18</th>\n",
       "      <td>2.310000</td>\n",
       "      <td>2.350000</td>\n",
       "      <td>2.240000</td>\n",
       "      <td>2.310000</td>\n",
       "      <td>2.310000</td>\n",
       "      <td>341200.0</td>\n",
       "    </tr>\n",
       "    <tr>\n",
       "      <th>2020-11-19</th>\n",
       "      <td>2.300000</td>\n",
       "      <td>2.720000</td>\n",
       "      <td>2.260000</td>\n",
       "      <td>2.640000</td>\n",
       "      <td>2.640000</td>\n",
       "      <td>974700.0</td>\n",
       "    </tr>\n",
       "    <tr>\n",
       "      <th>2020-11-20</th>\n",
       "      <td>2.680000</td>\n",
       "      <td>2.720000</td>\n",
       "      <td>2.520000</td>\n",
       "      <td>2.610000</td>\n",
       "      <td>2.610000</td>\n",
       "      <td>513700.0</td>\n",
       "    </tr>\n",
       "  </tbody>\n",
       "</table>\n",
       "<p>2390 rows × 6 columns</p>\n",
       "</div>"
      ],
      "text/plain": [
       "                           Open       High        Low      Close  Adj.Close  \\\n",
       "comp_name Date                                                                \n",
       "AAL       2019-01-02  31.459999  32.650002  31.049999  32.480000  31.963160   \n",
       "          2019-01-03  31.690001  31.850000  28.809999  30.059999  29.581665   \n",
       "          2019-01-04  30.440001  32.090000  30.400000  32.040001  31.530161   \n",
       "          2019-01-07  31.990000  33.480000  31.240000  32.950001  32.425678   \n",
       "          2019-01-08  33.360001  33.650002  32.200001  32.419998  31.904110   \n",
       "...                         ...        ...        ...        ...        ...   \n",
       "AUTO      2020-11-16   2.310000   2.390000   2.260000   2.290000   2.290000   \n",
       "          2020-11-17   2.330000   2.390000   2.230000   2.320000   2.320000   \n",
       "          2020-11-18   2.310000   2.350000   2.240000   2.310000   2.310000   \n",
       "          2020-11-19   2.300000   2.720000   2.260000   2.640000   2.640000   \n",
       "          2020-11-20   2.680000   2.720000   2.520000   2.610000   2.610000   \n",
       "\n",
       "                          Volume  \n",
       "comp_name Date                    \n",
       "AAL       2019-01-02   5229500.0  \n",
       "          2019-01-03  16822000.0  \n",
       "          2019-01-04   9369600.0  \n",
       "          2019-01-07   8010700.0  \n",
       "          2019-01-08   7107700.0  \n",
       "...                          ...  \n",
       "AUTO      2020-11-16    179300.0  \n",
       "          2020-11-17    196900.0  \n",
       "          2020-11-18    341200.0  \n",
       "          2020-11-19    974700.0  \n",
       "          2020-11-20    513700.0  \n",
       "\n",
       "[2390 rows x 6 columns]"
      ]
     },
     "execution_count": 10,
     "metadata": {},
     "output_type": "execute_result"
    }
   ],
   "source": [
    "df_final "
   ]
  },
  {
   "cell_type": "code",
   "execution_count": null,
   "metadata": {},
   "outputs": [],
   "source": [
    "# Part 2"
   ]
  },
  {
   "cell_type": "code",
   "execution_count": 11,
   "metadata": {},
   "outputs": [
    {
     "name": "stdout",
     "output_type": "stream",
     "text": [
      "comp_name\n",
      "AAL     36.441425\n",
      "AZN     60.615417\n",
      "IAG      5.200000\n",
      "BME     46.650002\n",
      "AUTO     5.370000\n",
      "Name: Adj.Close, dtype: float64\n",
      "comp_name\n",
      "AAL      9.040000\n",
      "AZN     33.386486\n",
      "IAG      1.880000\n",
      "BME     26.664894\n",
      "AUTO     0.670000\n",
      "Name: Adj.Close, dtype: float64\n"
     ]
    }
   ],
   "source": [
    "#what is the highest and lowest Adj Close price the company recorded? \n",
    "print(df_final.groupby('comp_name')['Adj.Close'].max()) #highest\n",
    "print(df_final.groupby('comp_name')['Adj.Close'].min()) #lowest"
   ]
  },
  {
   "cell_type": "code",
   "execution_count": 12,
   "metadata": {},
   "outputs": [
    {
     "data": {
      "text/plain": [
       "comp_name\n",
       "AAL      (AAL, 2020-06-05 00:00:00)\n",
       "AZN      (AZN, 2020-07-20 00:00:00)\n",
       "IAG      (IAG, 2020-02-24 00:00:00)\n",
       "BME      (BME, 2020-03-23 00:00:00)\n",
       "AUTO    (AUTO, 2020-08-27 00:00:00)\n",
       "Name: Volume, dtype: object"
      ]
     },
     "execution_count": 12,
     "metadata": {},
     "output_type": "execute_result"
    }
   ],
   "source": [
    "#what day was the highest number of shares traded\n",
    "df_final.groupby('comp_name')['Volume'].idxmax()"
   ]
  },
  {
   "cell_type": "code",
   "execution_count": 13,
   "metadata": {},
   "outputs": [
    {
     "data": {
      "text/plain": [
       "comp_name\n",
       "AAL     1.664048e+10\n",
       "AZN     2.151856e+09\n",
       "IAG     2.633248e+09\n",
       "BME     1.816650e+07\n",
       "AUTO    9.555050e+07\n",
       "Name: Volume, dtype: float64"
      ]
     },
     "execution_count": 13,
     "metadata": {},
     "output_type": "execute_result"
    }
   ],
   "source": [
    "#what is the total of shares traded\n",
    "df_final.groupby('comp_name')['Volume'].sum()"
   ]
  },
  {
   "cell_type": "code",
   "execution_count": 14,
   "metadata": {},
   "outputs": [
    {
     "data": {
      "text/plain": [
       "<AxesSubplot:title={'center':'Share Price Development'}, xlabel='Date', ylabel='Adj.Close'>"
      ]
     },
     "execution_count": 14,
     "metadata": {},
     "output_type": "execute_result"
    },
    {
     "data": {
      "image/png": "[encoded data removed]",
      "text/plain": [
       "<Figure size 432x288 with 1 Axes>"
      ]
     },
     "metadata": {
      "needs_background": "light"
     },
     "output_type": "display_data"
    }
   ],
   "source": [
    "#for the company with the highest volume of shares traded over the whole period, plot their share price over time \n",
    "df_final.loc['AAL',:]['Adj.Close'].plot(title = 'Share Price Development', ylabel = 'Adj.Close')"
   ]
  },
  {
   "cell_type": "code",
   "execution_count": null,
   "metadata": {},
   "outputs": [],
   "source": []
  }
 ],
 "metadata": {
  "kernelspec": {
   "display_name": "Python 3",
   "language": "python",
   "name": "python3"
  },
  "language_info": {
   "codemirror_mode": {
    "name": "ipython",
    "version": 3
   },
   "file_extension": ".py",
   "mimetype": "text/x-python",
   "name": "python",
   "nbconvert_exporter": "python",
   "pygments_lexer": "ipython3",
   "version": "3.8.5"
  }
 },
 "nbformat": 4,
 "nbformat_minor": 4
}
